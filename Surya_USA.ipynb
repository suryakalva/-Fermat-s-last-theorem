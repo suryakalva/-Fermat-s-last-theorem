{
  "cells": [
    {
      "cell_type": "code",
      "execution_count": null,
      "metadata": {
        "id": "USgphaXlIESy"
      },
      "outputs": [],
      "source":[
    
        "# take input  n as power of our values \n",
        "# take input k as value of integers\n",
        "n = int(input('Enter the power of n: '))\n",
        "if n>=2 and n<=12:\n",
        "  k = int(input('Enter the intiger k: '))\n",
        "\n",
        "#take input values of x and y with given range\n",
        "\n",
        "  for i in range (10,k):\n",
        "    x =int(input('Enter your first number: '))\n",
        "    if x>=10 and x<=k:\n",
        "      y =int(input('Enter your second number: '))\n",
        "      if y>=10 and y<=k:\n",
        "      \n",
        "          \n",
        "        z  = [pow(x,n)+pow(y,n)]\n",
        "\n",
        "# make integer value into to list values \n",
        "        x1 = [x]\n",
        "        y1 = [y]\n",
        "        z1 = [z]\n",
        "\n",
        "#now for results make loop for different different values and give them conditions\n",
        "\n",
        "        for i in range (0,len(x1)):\n",
        "          print (x1[i],'^',n,'+',y1[i],'^',n,'=',z1[i],' = ',pow(x1[i],n)+pow(y1[i],n))\n",
        "      else:\n",
        "        print(\"enter valid number\")\n",
        "    else:\n",
        "      print(\"enter valid number\")\n",
        "else:\n",
        "  print(\"enter the value detween 2 to 12\")"
      ]
 
    },
    {
      "cell_type": "code",
      "execution_count": null,
      "metadata": {
        "id": "oZ1OpuWptWz_"
      },
      "outputs": [],
      "source": [
        "\n",
        "# for first  make a function for restart of the program \n",
        "\n",
        "def program_restart():\n",
        "    print(\"Would you like to try again? \")\n",
        "    prompt = input(\"type '0' to continue and '1' to exit:\\n\")\n",
        "    if prompt ==\"1\" :\n",
        "        user_input()\n",
        "    return\n",
        "\n",
        "# make function for checking the fermat theorem  \n",
        "\n",
        "def check_fermat(x,y,z,n):\n",
        "    if x**n+y**n == z**n:\n",
        "        print(\"Values will same !\")\n",
        "        print(\"---------------------------\")\n",
        "    else:\n",
        "        print(\"No, that does not work!\")\n",
        "        print(\"---------------------------\")\n",
        "    program_restart()\n",
        "\n",
        "# function for takinge values of x, y, z. \n",
        "\n",
        "def user_input():\n",
        "    print(\"Let's see input is right. He claims that a^n+b^n=c^n cannot be True!\")\n",
        "    while True:\n",
        "        try:\n",
        "            x = int(input('Give a positive number bigger than 2 for \"x\":\\n'))\n",
        "        except ValueError:\n",
        "            print (\"Not a string, a number please.\")\n",
        "            continue\n",
        "\n",
        "        if x > 2:\n",
        "            x = int(x)\n",
        "            break\n",
        "\n",
        "    while True:\n",
        "        try:\n",
        "            y = int(input('Give a positive number bigger than 2 for \"y\":\\n'))\n",
        "        except ValueError:\n",
        "            print (\"Not a string, a number please.\")\n",
        "            continue\n",
        "\n",
        "        if y > 2:\n",
        "            y = int(y)\n",
        "            break\n",
        "\n",
        "    while True:\n",
        "        try:\n",
        "            z = int(input('Give a positive number bigger than 2 for \"z\":\\n'))\n",
        "        except ValueError:\n",
        "            print (\"Not a string, a number please.\")\n",
        "            continue\n",
        "\n",
        "        if z > 2:\n",
        "            z = int(z)\n",
        "            break\n",
        "\n",
        "    while True:\n",
        "        try:\n",
        "            n = int(input('Give a positive number for the exponent \"n\":\\n'))\n",
        "        except ValueError:\n",
        "            print (\"Not a string, a number please.\")\n",
        "            continue\n",
        "\n",
        "        if n > 2:\n",
        "            n = int(n)\n",
        "            break\n",
        "\n",
        "    check_fermat(x,y,z,n)\n",
        "\n",
        "user_input()\n"
      ]
    
    },
    {
      "cell_type": "code",
      "source": [
        "\n",
        "\n",
        "import math \n",
        "print(\"This program is designed to find a near miss to the equation (x^n + y^n = z^n)\") \n",
        "print(\"where x, y, z, n, k are positive integers, where 2< n <12, where 10 <= x <= k, and\") \n",
        "print(\"where 10 <= y <= k.\") \n",
        "\n",
        "# take input as n for power of the values \n",
        "\n",
        "n = int(input(\"What is the power n? \")) \n",
        "if n <= 2: \n",
        "    print(\"n must be greater than 2.\") \n",
        "    n = int(input(\"What is the power n? \")) \n",
        "if n >= 12: \n",
        "    print(\"n must be less than 12.\") \n",
        "    n = int(input(\"What is the power n? \")) \n",
        "\n",
        "# take input as k for  maximum values of  our intiger  \n",
        "\n",
        "k = int(input(\"What is the limit k? \")) \n",
        "if k <= 10: \n",
        "    print(\"k must be greater than 10.\") \n",
        "    k = int(input(\"What is the limit k? \")) \n",
        "\n",
        "# make condition for the values that the values are  [(x^n + y^n) - z^n] or [(z+1)^n- (x^n + y^n)]\n",
        "\n",
        "x = 10 \n",
        "while x <= k: \n",
        "    y = 10 \n",
        "    while y <= k: \n",
        "        z = math.floor((x**n + y**n)**(1/n)) \n",
        "        miss = min((x**n + y**n) - z**n, (z + 1)**n - (x**n + y**n)) \n",
        "        relmiss = miss/(x**n + y**n) \n",
        "        print(\"x = \", x, \"y = \", y, \"z = \", z, \"miss = \", miss, \"relmiss = \", relmiss) \n",
        "        y = y + 1 \n",
        "    x = x + 1 \n",
        "print(\"The program has finished.\")"
      ],
      "metadata": {
        "id": "W9f4Alw-Gf24"
      },
      "execution_count": null,
      "outputs": []
    },
    {
      "cell_type": "code",
      "source": [],
      "metadata": {
        "id": "gIUTH8AUV7H5"
      },
      "execution_count": null,
      "outputs": []
    },
    {
      "cell_type": "code",
      "source": [],
      "metadata": {
        "id": "lqSkz7Iga9vS"
      },
      "execution_count": null,
      "outputs": []
    }
  ],
  "metadata": {
    "colab": {
      "collapsed_sections": [],
      "provenance": []
    },
    "kernelspec": {
      "display_name": "Python 3",
      "name": "python3"
    },
    "language_info": {
      "name": "python"
    }
  },
  "nbformat": 4,
  "nbformat_minor": 0
}
 
